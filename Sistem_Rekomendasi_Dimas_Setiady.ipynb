{
 "cells": [
  {
   "cell_type": "markdown",
   "id": "3a090379",
   "metadata": {},
   "source": [
    " # **Proyek Akhir : Membuat Model Sistem Rekomendasi**\n",
    "\n",
    " - Nama : Dimas Aditia Anugerah Setiady\n",
    " - Email : mc240d5y0910@student.devacademy.id\n",
    " - ID Dicoding : MC240D5Y0910"
   ]
  },
  {
   "cell_type": "markdown",
   "id": "69c70905",
   "metadata": {},
   "source": [
    "### **Import Library**\n",
    "Pada tahap ini, berbagai library Python yang diperlukan untuk analisis data dan machine learning akan diimpor. Library ini akan digunakan dalam seluruh proses eksplorasi, persiapan, pelatihan, dan evaluasi model."
   ]
  },
  {
   "cell_type": "code",
   "execution_count": 1,
   "id": "fb0260f0",
   "metadata": {},
   "outputs": [],
   "source": [
    "import pandas as pd\n",
    "import numpy as np\n",
    "from sklearn.feature_extraction.text import TfidfVectorizer\n",
    "from sklearn.metrics.pairwise import cosine_similarity\n",
    "import matplotlib.pyplot as plt\n",
    "import seaborn as sns\n",
    "import json\n",
    "import warnings\n",
    "warnings.simplefilter('ignore')"
   ]
  },
  {
   "cell_type": "markdown",
   "id": "5da86d14",
   "metadata": {},
   "source": [
    "## **Data Understanding**\n",
    "Data Understanding merupakan tahap awal yang krusial dalam pengembangan proyek machine learning maupun data science. Tahap ini bertujuan untuk memahami isi, struktur, serta kualitas data yang akan dianalisis. Dalam proyek ini, proses Data Understanding akan dilakukan melalui tiga tahapan utama, yaitu:\n",
    "- Melakukan load dataset \n",
    "- Melakukan univariate exploratory data analysis (EDA)\n",
    "- Melakukan visualisasi data\n",
    "\n"
   ]
  },
  {
   "cell_type": "code",
   "execution_count": 2,
   "id": "82b6f155",
   "metadata": {},
   "outputs": [],
   "source": [
    "# Load dataset\n",
    "df = pd.read_csv(r'C:\\Users\\ADVAN\\Documents\\The Movies Dataset\\movies_metadata.csv')"
   ]
  },
  {
   "cell_type": "code",
   "execution_count": 3,
   "id": "4f6de2b9",
   "metadata": {},
   "outputs": [
    {
     "name": "stdout",
     "output_type": "stream",
     "text": [
      "   adult                              belongs_to_collection    budget  \\\n",
      "0  False  {'id': 10194, 'name': 'Toy Story Collection', ...  30000000   \n",
      "1  False                                                NaN  65000000   \n",
      "2  False  {'id': 119050, 'name': 'Grumpy Old Men Collect...         0   \n",
      "3  False                                                NaN  16000000   \n",
      "4  False  {'id': 96871, 'name': 'Father of the Bride Col...         0   \n",
      "\n",
      "                                              genres  \\\n",
      "0  [{'id': 16, 'name': 'Animation'}, {'id': 35, '...   \n",
      "1  [{'id': 12, 'name': 'Adventure'}, {'id': 14, '...   \n",
      "2  [{'id': 10749, 'name': 'Romance'}, {'id': 35, ...   \n",
      "3  [{'id': 35, 'name': 'Comedy'}, {'id': 18, 'nam...   \n",
      "4                     [{'id': 35, 'name': 'Comedy'}]   \n",
      "\n",
      "                               homepage     id    imdb_id original_language  \\\n",
      "0  http://toystory.disney.com/toy-story    862  tt0114709                en   \n",
      "1                                   NaN   8844  tt0113497                en   \n",
      "2                                   NaN  15602  tt0113228                en   \n",
      "3                                   NaN  31357  tt0114885                en   \n",
      "4                                   NaN  11862  tt0113041                en   \n",
      "\n",
      "                original_title  \\\n",
      "0                    Toy Story   \n",
      "1                      Jumanji   \n",
      "2             Grumpier Old Men   \n",
      "3            Waiting to Exhale   \n",
      "4  Father of the Bride Part II   \n",
      "\n",
      "                                            overview  ... release_date  \\\n",
      "0  Led by Woody, Andy's toys live happily in his ...  ...   1995-10-30   \n",
      "1  When siblings Judy and Peter discover an encha...  ...   1995-12-15   \n",
      "2  A family wedding reignites the ancient feud be...  ...   1995-12-22   \n",
      "3  Cheated on, mistreated and stepped on, the wom...  ...   1995-12-22   \n",
      "4  Just when George Banks has recovered from his ...  ...   1995-02-10   \n",
      "\n",
      "       revenue runtime                                   spoken_languages  \\\n",
      "0  373554033.0    81.0           [{'iso_639_1': 'en', 'name': 'English'}]   \n",
      "1  262797249.0   104.0  [{'iso_639_1': 'en', 'name': 'English'}, {'iso...   \n",
      "2          0.0   101.0           [{'iso_639_1': 'en', 'name': 'English'}]   \n",
      "3   81452156.0   127.0           [{'iso_639_1': 'en', 'name': 'English'}]   \n",
      "4   76578911.0   106.0           [{'iso_639_1': 'en', 'name': 'English'}]   \n",
      "\n",
      "     status                                            tagline  \\\n",
      "0  Released                                                NaN   \n",
      "1  Released          Roll the dice and unleash the excitement!   \n",
      "2  Released  Still Yelling. Still Fighting. Still Ready for...   \n",
      "3  Released  Friends are the people who let you be yourself...   \n",
      "4  Released  Just When His World Is Back To Normal... He's ...   \n",
      "\n",
      "                         title  video vote_average vote_count  \n",
      "0                    Toy Story  False          7.7     5415.0  \n",
      "1                      Jumanji  False          6.9     2413.0  \n",
      "2             Grumpier Old Men  False          6.5       92.0  \n",
      "3            Waiting to Exhale  False          6.1       34.0  \n",
      "4  Father of the Bride Part II  False          5.7      173.0  \n",
      "\n",
      "[5 rows x 24 columns]\n"
     ]
    }
   ],
   "source": [
    "# Cek 5 baris pertama dataset\n",
    "print(df.head())\n"
   ]
  },
  {
   "cell_type": "markdown",
   "id": "84b44f62",
   "metadata": {},
   "source": [
    "#### **Univariate Exploratory Data Analysis**"
   ]
  },
  {
   "cell_type": "markdown",
   "id": "325116fc",
   "metadata": {},
   "source": [
    "**Cek Informasi Dataset (struktur dan tipe data)**"
   ]
  },
  {
   "cell_type": "code",
   "execution_count": 4,
   "id": "eb0b7267",
   "metadata": {},
   "outputs": [
    {
     "name": "stdout",
     "output_type": "stream",
     "text": [
      "<class 'pandas.core.frame.DataFrame'>\n",
      "RangeIndex: 45466 entries, 0 to 45465\n",
      "Data columns (total 24 columns):\n",
      " #   Column                 Non-Null Count  Dtype  \n",
      "---  ------                 --------------  -----  \n",
      " 0   adult                  45466 non-null  object \n",
      " 1   belongs_to_collection  4494 non-null   object \n",
      " 2   budget                 45466 non-null  object \n",
      " 3   genres                 45466 non-null  object \n",
      " 4   homepage               7782 non-null   object \n",
      " 5   id                     45466 non-null  object \n",
      " 6   imdb_id                45449 non-null  object \n",
      " 7   original_language      45455 non-null  object \n",
      " 8   original_title         45466 non-null  object \n",
      " 9   overview               44512 non-null  object \n",
      " 10  popularity             45461 non-null  object \n",
      " 11  poster_path            45080 non-null  object \n",
      " 12  production_companies   45463 non-null  object \n",
      " 13  production_countries   45463 non-null  object \n",
      " 14  release_date           45379 non-null  object \n",
      " 15  revenue                45460 non-null  float64\n",
      " 16  runtime                45203 non-null  float64\n",
      " 17  spoken_languages       45460 non-null  object \n",
      " 18  status                 45379 non-null  object \n",
      " 19  tagline                20412 non-null  object \n",
      " 20  title                  45460 non-null  object \n",
      " 21  video                  45460 non-null  object \n",
      " 22  vote_average           45460 non-null  float64\n",
      " 23  vote_count             45460 non-null  float64\n",
      "dtypes: float64(4), object(20)\n",
      "memory usage: 8.3+ MB\n",
      "None\n"
     ]
    }
   ],
   "source": [
    "# Melihat info dataset\n",
    "print(df.info())"
   ]
  },
  {
   "cell_type": "code",
   "execution_count": 5,
   "id": "202cf21f",
   "metadata": {},
   "outputs": [
    {
     "name": "stdout",
     "output_type": "stream",
     "text": [
      "       vote_average    vote_count\n",
      "count  45460.000000  45460.000000\n",
      "mean       5.618207    109.897338\n",
      "std        1.924216    491.310374\n",
      "min        0.000000      0.000000\n",
      "25%        5.000000      3.000000\n",
      "50%        6.000000     10.000000\n",
      "75%        6.800000     34.000000\n",
      "max       10.000000  14075.000000\n"
     ]
    }
   ],
   "source": [
    "# Statistik deskriptif untuk kolom numerik\n",
    "print(df[['vote_average', 'vote_count']].describe())"
   ]
  },
  {
   "cell_type": "code",
   "execution_count": 6,
   "id": "fbe9eca8",
   "metadata": {},
   "outputs": [
    {
     "name": "stdout",
     "output_type": "stream",
     "text": [
      "title             6\n",
      "genres            0\n",
      "overview        954\n",
      "vote_average      6\n",
      "dtype: int64\n"
     ]
    }
   ],
   "source": [
    "# Cek missing value\n",
    "print(df[['title', 'genres', 'overview', 'vote_average']].isnull().sum())\n"
   ]
  },
  {
   "cell_type": "markdown",
   "id": "a4198e53",
   "metadata": {},
   "source": [
    "#### **Visualisasi Univariate**"
   ]
  },
  {
   "cell_type": "code",
   "execution_count": 7,
   "id": "ae5536dd",
   "metadata": {},
   "outputs": [
    {
     "data": {
      "image/png": "[encoded data removed]",
      "text/plain": [
       "<Figure size 1000x600 with 1 Axes>"
      ]
     },
     "metadata": {},
     "output_type": "display_data"
    },
    {
     "data": {
      "image/png": "[encoded data removed]",
      "text/plain": [
       "<Figure size 1000x600 with 1 Axes>"
      ]
     },
     "metadata": {},
     "output_type": "display_data"
    }
   ],
   "source": [
    "# Distribusi vote_average\n",
    "plt.figure(figsize=(10, 6))\n",
    "sns.histplot(df['vote_average'], bins=20, kde=True)\n",
    "plt.title('Distribusi Rata-rata Rating Film')\n",
    "plt.xlabel('Vote Average')\n",
    "plt.ylabel('Frekuensi')\n",
    "plt.show()\n",
    "\n",
    "# Distribusi vote_count\n",
    "plt.figure(figsize=(10, 6))\n",
    "sns.histplot(df['vote_count'], bins=20, kde=True)\n",
    "plt.title('Distribusi Jumlah Voting Film')\n",
    "plt.xlabel('Vote Count')\n",
    "plt.ylabel('Frekuensi')\n",
    "plt.show()"
   ]
  },
  {
   "cell_type": "markdown",
   "id": "d5b0410c",
   "metadata": {},
   "source": [
    "## **Data Preparation**"
   ]
  },
  {
   "cell_type": "code",
   "execution_count": 8,
   "id": "ca210604",
   "metadata": {},
   "outputs": [
    {
     "name": "stdout",
     "output_type": "stream",
     "text": [
      "adult                        0\n",
      "belongs_to_collection    40972\n",
      "budget                       0\n",
      "genres                       0\n",
      "homepage                 37684\n",
      "id                           0\n",
      "imdb_id                     17\n",
      "original_language           11\n",
      "original_title               0\n",
      "overview                   954\n",
      "popularity                   5\n",
      "poster_path                386\n",
      "production_companies         3\n",
      "production_countries         3\n",
      "release_date                87\n",
      "revenue                      6\n",
      "runtime                    263\n",
      "spoken_languages             6\n",
      "status                      87\n",
      "tagline                  25054\n",
      "title                        6\n",
      "video                        6\n",
      "vote_average                 6\n",
      "vote_count                   6\n",
      "dtype: int64\n"
     ]
    }
   ],
   "source": [
    "# 1. Cek missing value\n",
    "print(df.isnull().sum())"
   ]
  },
  {
   "cell_type": "code",
   "execution_count": 9,
   "id": "5176d508",
   "metadata": {},
   "outputs": [],
   "source": [
    "# 2. Tangani missing value\n",
    "df['overview'] = df['overview'].fillna('')\n",
    "df['genres'] = df['genres'].fillna('')\n",
    "df['title'] = df['title'].fillna('')"
   ]
  },
  {
   "cell_type": "markdown",
   "id": "c830c59c",
   "metadata": {},
   "source": [
    "*Insight :*\n",
    "- Missing value telah berhasil ditangani."
   ]
  },
  {
   "cell_type": "code",
   "execution_count": 10,
   "id": "71f4a0f8",
   "metadata": {},
   "outputs": [
    {
     "name": "stdout",
     "output_type": "stream",
     "text": [
      "Jumlah duplikat: 13\n"
     ]
    }
   ],
   "source": [
    "# 3. Cek data duplikat\n",
    "duplicates = df.duplicated()\n",
    "print(f\"Jumlah duplikat: {duplicates.sum()}\")"
   ]
  },
  {
   "cell_type": "code",
   "execution_count": 11,
   "id": "d473e4e0",
   "metadata": {},
   "outputs": [
    {
     "name": "stdout",
     "output_type": "stream",
     "text": [
      "Jumlah duplikat setelah dibersihkan: 0\n"
     ]
    }
   ],
   "source": [
    "# 4. Hapus data duplikat\n",
    "df = df.drop_duplicates().reset_index(drop=True)\n",
    "\n",
    "# Cek ulang jumlah duplikat\n",
    "print(f\"Jumlah duplikat setelah dibersihkan: {df.duplicated().sum()}\")\n"
   ]
  },
  {
   "cell_type": "markdown",
   "id": "5ab329a5",
   "metadata": {},
   "source": [
    "*Insight :*\n",
    "- Data duplikat telah berhasil ditangani."
   ]
  },
  {
   "cell_type": "code",
   "execution_count": 12,
   "id": "903dad9f",
   "metadata": {},
   "outputs": [],
   "source": [
    "# 5. Parsing kolom genres\n",
    "def parse_genres(genres_str):\n",
    "    try:\n",
    "        genres = json.loads(genres_str.replace(\"'\", \"\\\"\"))\n",
    "        return ' '.join([genre['name'] for genre in genres])\n",
    "    except:\n",
    "        return ''\n",
    "\n",
    "df['genres'] = df['genres'].apply(parse_genres)\n"
   ]
  },
  {
   "cell_type": "code",
   "execution_count": 13,
   "id": "92cec405",
   "metadata": {},
   "outputs": [],
   "source": [
    "# 6. Buat fitur gabungan (genres + overview)\n",
    "df['combined_features'] = df['genres'] + ' ' + df['overview']"
   ]
  },
  {
   "cell_type": "code",
   "execution_count": 14,
   "id": "eee2ba5b",
   "metadata": {},
   "outputs": [
    {
     "name": "stdout",
     "output_type": "stream",
     "text": [
      "                         title  \\\n",
      "0                    Toy Story   \n",
      "1                      Jumanji   \n",
      "2             Grumpier Old Men   \n",
      "3  Father of the Bride Part II   \n",
      "4                         Heat   \n",
      "\n",
      "                                   combined_features  \n",
      "0  Animation Comedy Family Led by Woody, Andy's t...  \n",
      "1  Adventure Fantasy Family When siblings Judy an...  \n",
      "2  Romance Comedy A family wedding reignites the ...  \n",
      "3  Comedy Just when George Banks has recovered fr...  \n",
      "4  Action Crime Drama Thriller Obsessive master t...  \n"
     ]
    }
   ],
   "source": [
    "# 7. Filter film dengan vote_count > 50 untuk memastikan kualitas\n",
    "df = df[df['vote_count'] > 50].reset_index(drop=True)\n",
    "\n",
    "# 8. Cek hasil preprocessing\n",
    "print(df[['title', 'combined_features']].head())"
   ]
  },
  {
   "cell_type": "markdown",
   "id": "937e82c8",
   "metadata": {},
   "source": [
    "## **Modeling & Evaluasi**"
   ]
  },
  {
   "cell_type": "code",
   "execution_count": 15,
   "id": "5ad13ada",
   "metadata": {},
   "outputs": [
    {
     "name": "stdout",
     "output_type": "stream",
     "text": [
      "Matriks Cosine Similarity berhasil dibuat!\n"
     ]
    }
   ],
   "source": [
    "from sklearn.feature_extraction.text import TfidfVectorizer\n",
    "from sklearn.metrics.pairwise import cosine_similarity\n",
    "\n",
    "# Ekstraksi fitur dengan TF-IDF\n",
    "try:\n",
    "    tfidf = TfidfVectorizer(stop_words='english', max_features=5000)\n",
    "    tfidf_matrix = tfidf.fit_transform(df['combined_features'])\n",
    "except Exception as e:\n",
    "    print(f\"Error saat membuat matriks TF-IDF: {e}\")\n",
    "    exit()\n",
    "\n",
    "# Hitung Cosine Similarity\n",
    "try:\n",
    "    cosine_sim = cosine_similarity(tfidf_matrix, tfidf_matrix)\n",
    "    print(\"Matriks Cosine Similarity berhasil dibuat!\")\n",
    "except Exception as e:\n",
    "    print(f\"Error saat menghitung Cosine Similarity: {e}\")\n",
    "    exit()\n",
    "    \n",
    "# Fungsi aman untuk mendapatkan rekomendasi\n",
    "def get_recommendations(title, cosine_sim=cosine_sim, df=df, top_k=10):\n",
    "    matches = df[df['title'].str.lower() == title.lower()]\n",
    "    \n",
    "    if matches.empty:\n",
    "        return f\"Judul '{title}' tidak ditemukan di dataset.\"\n",
    "\n",
    "    idx = matches.index[0]\n",
    "    \n",
    "    if idx >= cosine_sim.shape[0]:\n",
    "        return f\"Index {idx} lebih besar dari ukuran cosine_sim: {cosine_sim.shape[0]}\"\n",
    "\n",
    "    sim_scores = list(enumerate(cosine_sim[idx]))\n",
    "    sim_scores = sorted(sim_scores, key=lambda x: x[1], reverse=True)\n",
    "    sim_scores = sim_scores[1:top_k+1]\n",
    "    movie_indices = [i[0] for i in sim_scores]\n",
    "    return df['title'].iloc[movie_indices].reset_index(drop=True)\n"
   ]
  },
  {
   "cell_type": "markdown",
   "id": "80792055",
   "metadata": {},
   "source": [
    "*Insight :*\n",
    "- Fitur teks diekstraksi menggunakan TfidfVectorizer untuk mengubah teks menjadi representasi numerik"
   ]
  },
  {
   "cell_type": "code",
   "execution_count": 16,
   "id": "cbbc5df7",
   "metadata": {},
   "outputs": [
    {
     "name": "stdout",
     "output_type": "stream",
     "text": [
      "0                      The Dark Knight Rises\n",
      "1                             Batman Returns\n",
      "2                 Batman: Under the Red Hood\n",
      "3                             Batman Forever\n",
      "4    Batman: The Dark Knight Returns, Part 2\n",
      "5    Batman: The Dark Knight Returns, Part 1\n",
      "6                           Batman: Year One\n",
      "7               Batman: Mask of the Phantasm\n",
      "8                                   Ricochet\n",
      "9                   Batman: The Killing Joke\n",
      "Name: title, dtype: object\n"
     ]
    }
   ],
   "source": [
    "# Coba kita gunakan\n",
    "print(get_recommendations('The Dark Knight'))\n"
   ]
  },
  {
   "cell_type": "code",
   "execution_count": null,
   "id": "f32975f0",
   "metadata": {},
   "outputs": [
    {
     "name": "stdout",
     "output_type": "stream",
     "text": [
      "Rekomendasi untuk The Dark Knight:\n",
      "0                      The Dark Knight Rises\n",
      "1                             Batman Returns\n",
      "2                 Batman: Under the Red Hood\n",
      "3                             Batman Forever\n",
      "4    Batman: The Dark Knight Returns, Part 2\n",
      "5    Batman: The Dark Knight Returns, Part 1\n",
      "6                           Batman: Year One\n",
      "7               Batman: Mask of the Phantasm\n",
      "8                                   Ricochet\n",
      "9                   Batman: The Killing Joke\n",
      "Name: title, dtype: object\n",
      "Rekomendasi untuk Toy Story:\n",
      "0               Toy Story 3\n",
      "1               Toy Story 2\n",
      "2                 Small Fry\n",
      "3    The 40 Year Old Virgin\n",
      "4           Man on the Moon\n",
      "5     Rebel Without a Cause\n",
      "6             Class of 1984\n",
      "7              Factory Girl\n",
      "8                    Malice\n",
      "9              Burke & Hare\n",
      "Name: title, dtype: object\n",
      "Rekomendasi untuk Inception:\n",
      "0                                 Cypher\n",
      "1     Mission: Impossible - Rogue Nation\n",
      "2    Transformers: Revenge of the Fallen\n",
      "3                            Renaissance\n",
      "4                                  Stuck\n",
      "5                        Pitch Perfect 2\n",
      "6                             Flatliners\n",
      "7                        Minority Report\n",
      "8                      Where Eagles Dare\n",
      "9                              Repeaters\n",
      "Name: title, dtype: object\n"
     ]
    }
   ],
   "source": [
    "# Evaluasi\n",
    "test_movies = ['The Dark Knight', 'Toy Story', 'Inception']\n",
    "for movie in test_movies:\n",
    "    print(f\"Rekomendasi untuk {movie}:\")\n",
    "    print(get_recommendations(movie))"
   ]
  }
 ],
 "metadata": {
  "kernelspec": {
   "display_name": "Python 3",
   "language": "python",
   "name": "python3"
  },
  "language_info": {
   "codemirror_mode": {
    "name": "ipython",
    "version": 3
   },
   "file_extension": ".py",
   "mimetype": "text/x-python",
   "name": "python",
   "nbconvert_exporter": "python",
   "pygments_lexer": "ipython3",
   "version": "3.10.0"
  }
 },
 "nbformat": 4,
 "nbformat_minor": 5
}
